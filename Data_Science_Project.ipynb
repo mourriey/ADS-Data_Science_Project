{
 "cells": [
  {
   "cell_type": "markdown",
   "id": "98b1506e-facf-4dc3-bbe9-c2103160e310",
   "metadata": {},
   "source": [
    "## **Data Science Project: Depression Data Exploration & Prediction Model**"
   ]
  },
  {
   "cell_type": "markdown",
   "id": "cd15bd4e-ff8d-4300-9928-2b2f239d7b91",
   "metadata": {},
   "source": [
    "#### **Description of The Project** \n",
    "The World Health Organization highlights depression as a global disability crisis, with universities becoming unexpected battlegrounds. Shockingly, 20-30% of students wrestle with depression's heavy weight—silenced by stigma, overwhelmed by academic pressures and life's turbulent transitions. These unseen battles not only dim academic potential but also erode the vibrant dreams of young minds, creating a hidden epidemic that demands compassionate understanding and urgent intervention.\n",
    "\n",
    "**The aim** of this end-to-end Data Science and Machine Learning project is to develop a transformative depression prediction model that identifies students at risk of depression early and facilitates timely interventions. Leveraging data exploration techniques, I also aim to deeply analyze and study the underlying factors contributing to depression, such as academic stress, financial stress, and others.\n",
    "\n",
    "**The ultimate goal** is to provide a scalable and impactful solution that can be implemented in educational institutions to monitor student mental health and in campus healthcare facilities to integrate mental health screening into their processes. By combining technology with mental health care, this project aspires to alleviate the growing burden of depression and improve student well-being.\n",
    "    \n",
    "For this project, I will be utilizing the Student Depression Dataset from Kaggle as the primary database. This dataset contains detailed information about students, including features such as academic pressure, sleep patterns, dietary habits, study hours, financial stress, and family history of mental illness, among others, along with the target variable indicating presence of depression."
   ]
  },
  {
   "cell_type": "markdown",
   "id": "dd9e51b3-474d-452c-a057-e9a8a6844b66",
   "metadata": {},
   "source": [
    "### Part 1: Upload and Check out the Dataset"
   ]
  },
  {
   "cell_type": "code",
   "execution_count": 130,
   "id": "2212650b-86c2-4749-9ae7-d978815159db",
   "metadata": {},
   "outputs": [],
   "source": [
    "import numpy as np\n",
    "import pandas as pd\n",
    "import matplotlib.pyplot as plt\n",
    "import seaborn as sns\n",
    "from sklearn.model_selection import train_test_split\n",
    "from sklearn.preprocessing import StandardScaler\n",
    "from sklearn.feature_selection import RFE\n",
    "from sklearn.ensemble import RandomForestClassifier\n",
    "from sklearn.linear_model import LogisticRegression\n",
    "from sklearn.tree import DecisionTreeClassifier\n",
    "from sklearn.svm import SVC\n",
    "from sklearn.neighbors import KNeighborsClassifier\n",
    "from sklearn.naive_bayes import GaussianNB\n",
    "from sklearn.metrics import accuracy_score, precision_score, recall_score, f1_score\n",
    "from sklearn.feature_selection import VarianceThreshold"
   ]
  },
  {
   "cell_type": "code",
   "execution_count": 9,
   "id": "f445bc5a-3c90-4657-a4fa-f13d0d1abf84",
   "metadata": {},
   "outputs": [
    {
     "data": {
      "text/html": [
       "<div>\n",
       "<style scoped>\n",
       "    .dataframe tbody tr th:only-of-type {\n",
       "        vertical-align: middle;\n",
       "    }\n",
       "\n",
       "    .dataframe tbody tr th {\n",
       "        vertical-align: top;\n",
       "    }\n",
       "\n",
       "    .dataframe thead th {\n",
       "        text-align: right;\n",
       "    }\n",
       "</style>\n",
       "<table border=\"1\" class=\"dataframe\">\n",
       "  <thead>\n",
       "    <tr style=\"text-align: right;\">\n",
       "      <th></th>\n",
       "      <th>Gender</th>\n",
       "      <th>Age</th>\n",
       "      <th>Academic Pressure</th>\n",
       "      <th>Study Satisfaction</th>\n",
       "      <th>Sleep Duration</th>\n",
       "      <th>Dietary Habits</th>\n",
       "      <th>Have you ever had suicidal thoughts ?</th>\n",
       "      <th>Study Hours</th>\n",
       "      <th>Financial Stress</th>\n",
       "      <th>Family History of Mental Illness</th>\n",
       "      <th>Depression</th>\n",
       "    </tr>\n",
       "  </thead>\n",
       "  <tbody>\n",
       "    <tr>\n",
       "      <th>0</th>\n",
       "      <td>Male</td>\n",
       "      <td>28.0</td>\n",
       "      <td>2</td>\n",
       "      <td>4</td>\n",
       "      <td>7-8 hours</td>\n",
       "      <td>Moderate</td>\n",
       "      <td>Yes</td>\n",
       "      <td>9</td>\n",
       "      <td>2</td>\n",
       "      <td>Yes</td>\n",
       "      <td>No</td>\n",
       "    </tr>\n",
       "    <tr>\n",
       "      <th>1</th>\n",
       "      <td>Male</td>\n",
       "      <td>28.0</td>\n",
       "      <td>4</td>\n",
       "      <td>5</td>\n",
       "      <td>5-6 hours</td>\n",
       "      <td>Healthy</td>\n",
       "      <td>Yes</td>\n",
       "      <td>7</td>\n",
       "      <td>1</td>\n",
       "      <td>Yes</td>\n",
       "      <td>No</td>\n",
       "    </tr>\n",
       "    <tr>\n",
       "      <th>2</th>\n",
       "      <td>Male</td>\n",
       "      <td>25.0</td>\n",
       "      <td>1</td>\n",
       "      <td>3</td>\n",
       "      <td>5-6 hours</td>\n",
       "      <td>Unhealthy</td>\n",
       "      <td>Yes</td>\n",
       "      <td>10</td>\n",
       "      <td>4</td>\n",
       "      <td>No</td>\n",
       "      <td>Yes</td>\n",
       "    </tr>\n",
       "  </tbody>\n",
       "</table>\n",
       "</div>"
      ],
      "text/plain": [
       "  Gender   Age  Academic Pressure  Study Satisfaction Sleep Duration  \\\n",
       "0   Male  28.0                  2                   4      7-8 hours   \n",
       "1   Male  28.0                  4                   5      5-6 hours   \n",
       "2   Male  25.0                  1                   3      5-6 hours   \n",
       "\n",
       "  Dietary Habits Have you ever had suicidal thoughts ?  Study Hours  \\\n",
       "0       Moderate                                   Yes            9   \n",
       "1        Healthy                                   Yes            7   \n",
       "2      Unhealthy                                   Yes           10   \n",
       "\n",
       "   Financial Stress Family History of Mental Illness Depression  \n",
       "0                 2                              Yes         No  \n",
       "1                 1                              Yes         No  \n",
       "2                 4                               No        Yes  "
      ]
     },
     "execution_count": 9,
     "metadata": {},
     "output_type": "execute_result"
    }
   ],
   "source": [
    "depression_df = pd.read_csv('Depression Student Dataset.csv')\n",
    "depression_df.head(3)"
   ]
  },
  {
   "cell_type": "code",
   "execution_count": 11,
   "id": "d0e8078a-1433-4464-aff9-ef2467fcf24d",
   "metadata": {},
   "outputs": [
    {
     "data": {
      "text/plain": [
       "(502, 11)"
      ]
     },
     "execution_count": 11,
     "metadata": {},
     "output_type": "execute_result"
    }
   ],
   "source": [
    "depression_df.shape"
   ]
  },
  {
   "cell_type": "code",
   "execution_count": 13,
   "id": "aa91916a-22c3-4547-9fa1-bf527cbec9fc",
   "metadata": {},
   "outputs": [
    {
     "name": "stdout",
     "output_type": "stream",
     "text": [
      "<class 'pandas.core.frame.DataFrame'>\n",
      "RangeIndex: 502 entries, 0 to 501\n",
      "Data columns (total 11 columns):\n",
      " #   Column                                 Non-Null Count  Dtype  \n",
      "---  ------                                 --------------  -----  \n",
      " 0   Gender                                 502 non-null    object \n",
      " 1   Age                                    501 non-null    float64\n",
      " 2   Academic Pressure                      502 non-null    int64  \n",
      " 3   Study Satisfaction                     502 non-null    int64  \n",
      " 4   Sleep Duration                         501 non-null    object \n",
      " 5   Dietary Habits                         502 non-null    object \n",
      " 6   Have you ever had suicidal thoughts ?  502 non-null    object \n",
      " 7   Study Hours                            502 non-null    int64  \n",
      " 8   Financial Stress                       502 non-null    int64  \n",
      " 9   Family History of Mental Illness       502 non-null    object \n",
      " 10  Depression                             502 non-null    object \n",
      "dtypes: float64(1), int64(4), object(6)\n",
      "memory usage: 43.3+ KB\n"
     ]
    }
   ],
   "source": [
    "depression_df.info()"
   ]
  },
  {
   "cell_type": "code",
   "execution_count": 17,
   "id": "0cbc1770-acdb-4487-8723-6fcf364e55c8",
   "metadata": {},
   "outputs": [
    {
     "data": {
      "text/html": [
       "<div>\n",
       "<style scoped>\n",
       "    .dataframe tbody tr th:only-of-type {\n",
       "        vertical-align: middle;\n",
       "    }\n",
       "\n",
       "    .dataframe tbody tr th {\n",
       "        vertical-align: top;\n",
       "    }\n",
       "\n",
       "    .dataframe thead th {\n",
       "        text-align: right;\n",
       "    }\n",
       "</style>\n",
       "<table border=\"1\" class=\"dataframe\">\n",
       "  <thead>\n",
       "    <tr style=\"text-align: right;\">\n",
       "      <th></th>\n",
       "      <th>Age</th>\n",
       "      <th>Academic Pressure</th>\n",
       "      <th>Study Satisfaction</th>\n",
       "      <th>Study Hours</th>\n",
       "      <th>Financial Stress</th>\n",
       "    </tr>\n",
       "  </thead>\n",
       "  <tbody>\n",
       "    <tr>\n",
       "      <th>count</th>\n",
       "      <td>501.000000</td>\n",
       "      <td>502.000000</td>\n",
       "      <td>502.000000</td>\n",
       "      <td>502.000000</td>\n",
       "      <td>502.000000</td>\n",
       "    </tr>\n",
       "    <tr>\n",
       "      <th>mean</th>\n",
       "      <td>26.241517</td>\n",
       "      <td>3.003984</td>\n",
       "      <td>3.075697</td>\n",
       "      <td>6.404382</td>\n",
       "      <td>2.928287</td>\n",
       "    </tr>\n",
       "    <tr>\n",
       "      <th>std</th>\n",
       "      <td>4.901383</td>\n",
       "      <td>1.390007</td>\n",
       "      <td>1.373490</td>\n",
       "      <td>3.742434</td>\n",
       "      <td>1.425053</td>\n",
       "    </tr>\n",
       "    <tr>\n",
       "      <th>min</th>\n",
       "      <td>18.000000</td>\n",
       "      <td>1.000000</td>\n",
       "      <td>1.000000</td>\n",
       "      <td>0.000000</td>\n",
       "      <td>1.000000</td>\n",
       "    </tr>\n",
       "    <tr>\n",
       "      <th>25%</th>\n",
       "      <td>22.000000</td>\n",
       "      <td>2.000000</td>\n",
       "      <td>2.000000</td>\n",
       "      <td>3.000000</td>\n",
       "      <td>2.000000</td>\n",
       "    </tr>\n",
       "    <tr>\n",
       "      <th>50%</th>\n",
       "      <td>27.000000</td>\n",
       "      <td>3.000000</td>\n",
       "      <td>3.000000</td>\n",
       "      <td>7.000000</td>\n",
       "      <td>3.000000</td>\n",
       "    </tr>\n",
       "    <tr>\n",
       "      <th>75%</th>\n",
       "      <td>30.000000</td>\n",
       "      <td>4.000000</td>\n",
       "      <td>4.000000</td>\n",
       "      <td>10.000000</td>\n",
       "      <td>4.000000</td>\n",
       "    </tr>\n",
       "    <tr>\n",
       "      <th>max</th>\n",
       "      <td>34.000000</td>\n",
       "      <td>5.000000</td>\n",
       "      <td>5.000000</td>\n",
       "      <td>12.000000</td>\n",
       "      <td>5.000000</td>\n",
       "    </tr>\n",
       "  </tbody>\n",
       "</table>\n",
       "</div>"
      ],
      "text/plain": [
       "              Age  Academic Pressure  Study Satisfaction  Study Hours  \\\n",
       "count  501.000000         502.000000          502.000000   502.000000   \n",
       "mean    26.241517           3.003984            3.075697     6.404382   \n",
       "std      4.901383           1.390007            1.373490     3.742434   \n",
       "min     18.000000           1.000000            1.000000     0.000000   \n",
       "25%     22.000000           2.000000            2.000000     3.000000   \n",
       "50%     27.000000           3.000000            3.000000     7.000000   \n",
       "75%     30.000000           4.000000            4.000000    10.000000   \n",
       "max     34.000000           5.000000            5.000000    12.000000   \n",
       "\n",
       "       Financial Stress  \n",
       "count        502.000000  \n",
       "mean           2.928287  \n",
       "std            1.425053  \n",
       "min            1.000000  \n",
       "25%            2.000000  \n",
       "50%            3.000000  \n",
       "75%            4.000000  \n",
       "max            5.000000  "
      ]
     },
     "execution_count": 17,
     "metadata": {},
     "output_type": "execute_result"
    }
   ],
   "source": [
    "depression_df.describe()"
   ]
  },
  {
   "cell_type": "markdown",
   "id": "db67ffef-cbe3-42f1-8b7b-834b03b601a8",
   "metadata": {},
   "source": [
    "### Part 2: Cleaning the Data"
   ]
  },
  {
   "cell_type": "code",
   "execution_count": 19,
   "id": "86cf5e6e-df56-4e7d-9dff-4fc19ace7c38",
   "metadata": {},
   "outputs": [
    {
     "data": {
      "text/html": [
       "<div>\n",
       "<style scoped>\n",
       "    .dataframe tbody tr th:only-of-type {\n",
       "        vertical-align: middle;\n",
       "    }\n",
       "\n",
       "    .dataframe tbody tr th {\n",
       "        vertical-align: top;\n",
       "    }\n",
       "\n",
       "    .dataframe thead th {\n",
       "        text-align: right;\n",
       "    }\n",
       "</style>\n",
       "<table border=\"1\" class=\"dataframe\">\n",
       "  <thead>\n",
       "    <tr style=\"text-align: right;\">\n",
       "      <th></th>\n",
       "      <th>Gender</th>\n",
       "      <th>Age</th>\n",
       "      <th>Academic Pressure</th>\n",
       "      <th>Study Satisfaction</th>\n",
       "      <th>Sleep Duration</th>\n",
       "      <th>Dietary Habits</th>\n",
       "      <th>Have you ever had suicidal thoughts ?</th>\n",
       "      <th>Study Hours</th>\n",
       "      <th>Financial Stress</th>\n",
       "      <th>Family History of Mental Illness</th>\n",
       "      <th>Depression</th>\n",
       "    </tr>\n",
       "  </thead>\n",
       "  <tbody>\n",
       "    <tr>\n",
       "      <th>0</th>\n",
       "      <td>Male</td>\n",
       "      <td>28.0</td>\n",
       "      <td>2</td>\n",
       "      <td>4</td>\n",
       "      <td>7-8 hours</td>\n",
       "      <td>Moderate</td>\n",
       "      <td>Yes</td>\n",
       "      <td>9</td>\n",
       "      <td>2</td>\n",
       "      <td>Yes</td>\n",
       "      <td>No</td>\n",
       "    </tr>\n",
       "    <tr>\n",
       "      <th>1</th>\n",
       "      <td>Male</td>\n",
       "      <td>28.0</td>\n",
       "      <td>4</td>\n",
       "      <td>5</td>\n",
       "      <td>5-6 hours</td>\n",
       "      <td>Healthy</td>\n",
       "      <td>Yes</td>\n",
       "      <td>7</td>\n",
       "      <td>1</td>\n",
       "      <td>Yes</td>\n",
       "      <td>No</td>\n",
       "    </tr>\n",
       "  </tbody>\n",
       "</table>\n",
       "</div>"
      ],
      "text/plain": [
       "  Gender   Age  Academic Pressure  Study Satisfaction Sleep Duration  \\\n",
       "0   Male  28.0                  2                   4      7-8 hours   \n",
       "1   Male  28.0                  4                   5      5-6 hours   \n",
       "\n",
       "  Dietary Habits Have you ever had suicidal thoughts ?  Study Hours  \\\n",
       "0       Moderate                                   Yes            9   \n",
       "1        Healthy                                   Yes            7   \n",
       "\n",
       "   Financial Stress Family History of Mental Illness Depression  \n",
       "0                 2                              Yes         No  \n",
       "1                 1                              Yes         No  "
      ]
     },
     "execution_count": 19,
     "metadata": {},
     "output_type": "execute_result"
    }
   ],
   "source": [
    "#making a copy of the dataset in case the current one gets mismanaged\n",
    "df = depression_df\n",
    "df.head(2)"
   ]
  },
  {
   "cell_type": "code",
   "execution_count": 21,
   "id": "ee837f29-4ab6-4470-b5dc-fb7281da03ee",
   "metadata": {},
   "outputs": [
    {
     "data": {
      "text/plain": [
       "Gender                                   0\n",
       "Age                                      1\n",
       "Academic Pressure                        0\n",
       "Study Satisfaction                       0\n",
       "Sleep Duration                           1\n",
       "Dietary Habits                           0\n",
       "Have you ever had suicidal thoughts ?    0\n",
       "Study Hours                              0\n",
       "Financial Stress                         0\n",
       "Family History of Mental Illness         0\n",
       "Depression                               0\n",
       "dtype: int64"
      ]
     },
     "execution_count": 21,
     "metadata": {},
     "output_type": "execute_result"
    }
   ],
   "source": [
    "#checking for and handling missing values\n",
    "depression_df.isnull().sum()"
   ]
  },
  {
   "cell_type": "code",
   "execution_count": 23,
   "id": "bba13d26-e31c-4ffb-9412-9297caa87599",
   "metadata": {},
   "outputs": [
    {
     "data": {
      "text/html": [
       "<div>\n",
       "<style scoped>\n",
       "    .dataframe tbody tr th:only-of-type {\n",
       "        vertical-align: middle;\n",
       "    }\n",
       "\n",
       "    .dataframe tbody tr th {\n",
       "        vertical-align: top;\n",
       "    }\n",
       "\n",
       "    .dataframe thead th {\n",
       "        text-align: right;\n",
       "    }\n",
       "</style>\n",
       "<table border=\"1\" class=\"dataframe\">\n",
       "  <thead>\n",
       "    <tr style=\"text-align: right;\">\n",
       "      <th></th>\n",
       "      <th>Age</th>\n",
       "    </tr>\n",
       "  </thead>\n",
       "  <tbody>\n",
       "    <tr>\n",
       "      <th>count</th>\n",
       "      <td>501.000000</td>\n",
       "    </tr>\n",
       "    <tr>\n",
       "      <th>mean</th>\n",
       "      <td>26.241517</td>\n",
       "    </tr>\n",
       "    <tr>\n",
       "      <th>std</th>\n",
       "      <td>4.901383</td>\n",
       "    </tr>\n",
       "    <tr>\n",
       "      <th>min</th>\n",
       "      <td>18.000000</td>\n",
       "    </tr>\n",
       "    <tr>\n",
       "      <th>25%</th>\n",
       "      <td>22.000000</td>\n",
       "    </tr>\n",
       "    <tr>\n",
       "      <th>50%</th>\n",
       "      <td>27.000000</td>\n",
       "    </tr>\n",
       "    <tr>\n",
       "      <th>75%</th>\n",
       "      <td>30.000000</td>\n",
       "    </tr>\n",
       "    <tr>\n",
       "      <th>max</th>\n",
       "      <td>34.000000</td>\n",
       "    </tr>\n",
       "  </tbody>\n",
       "</table>\n",
       "</div>"
      ],
      "text/plain": [
       "              Age\n",
       "count  501.000000\n",
       "mean    26.241517\n",
       "std      4.901383\n",
       "min     18.000000\n",
       "25%     22.000000\n",
       "50%     27.000000\n",
       "75%     30.000000\n",
       "max     34.000000"
      ]
     },
     "execution_count": 23,
     "metadata": {},
     "output_type": "execute_result"
    }
   ],
   "source": [
    "#checking for outliers\n",
    "summary = pd.DataFrame(depression_df['Age'].describe())\n",
    "summary"
   ]
  },
  {
   "cell_type": "code",
   "execution_count": 25,
   "id": "1745d5b9-13b4-48b2-a428-017160cfc537",
   "metadata": {},
   "outputs": [],
   "source": [
    "new_index = ['count','mean','std','min','Q1','Median','Q3','max']\n",
    "summary.index = new_index"
   ]
  },
  {
   "cell_type": "code",
   "execution_count": 27,
   "id": "42bf7aaf-ac0f-4968-915b-39d1a7c3fc85",
   "metadata": {},
   "outputs": [
    {
     "data": {
      "text/html": [
       "<div>\n",
       "<style scoped>\n",
       "    .dataframe tbody tr th:only-of-type {\n",
       "        vertical-align: middle;\n",
       "    }\n",
       "\n",
       "    .dataframe tbody tr th {\n",
       "        vertical-align: top;\n",
       "    }\n",
       "\n",
       "    .dataframe thead th {\n",
       "        text-align: right;\n",
       "    }\n",
       "</style>\n",
       "<table border=\"1\" class=\"dataframe\">\n",
       "  <thead>\n",
       "    <tr style=\"text-align: right;\">\n",
       "      <th></th>\n",
       "      <th>Age</th>\n",
       "    </tr>\n",
       "  </thead>\n",
       "  <tbody>\n",
       "    <tr>\n",
       "      <th>count</th>\n",
       "      <td>501.000000</td>\n",
       "    </tr>\n",
       "    <tr>\n",
       "      <th>mean</th>\n",
       "      <td>26.241517</td>\n",
       "    </tr>\n",
       "    <tr>\n",
       "      <th>std</th>\n",
       "      <td>4.901383</td>\n",
       "    </tr>\n",
       "    <tr>\n",
       "      <th>min</th>\n",
       "      <td>18.000000</td>\n",
       "    </tr>\n",
       "    <tr>\n",
       "      <th>Q1</th>\n",
       "      <td>22.000000</td>\n",
       "    </tr>\n",
       "    <tr>\n",
       "      <th>Median</th>\n",
       "      <td>27.000000</td>\n",
       "    </tr>\n",
       "    <tr>\n",
       "      <th>Q3</th>\n",
       "      <td>30.000000</td>\n",
       "    </tr>\n",
       "    <tr>\n",
       "      <th>max</th>\n",
       "      <td>34.000000</td>\n",
       "    </tr>\n",
       "  </tbody>\n",
       "</table>\n",
       "</div>"
      ],
      "text/plain": [
       "               Age\n",
       "count   501.000000\n",
       "mean     26.241517\n",
       "std       4.901383\n",
       "min      18.000000\n",
       "Q1       22.000000\n",
       "Median   27.000000\n",
       "Q3       30.000000\n",
       "max      34.000000"
      ]
     },
     "execution_count": 27,
     "metadata": {},
     "output_type": "execute_result"
    }
   ],
   "source": [
    "summary"
   ]
  },
  {
   "cell_type": "code",
   "execution_count": 29,
   "id": "46428d9e-d428-4dc0-bdf7-d26013af2607",
   "metadata": {},
   "outputs": [
    {
     "data": {
      "text/plain": [
       "8.0"
      ]
     },
     "execution_count": 29,
     "metadata": {},
     "output_type": "execute_result"
    }
   ],
   "source": [
    "IQR = (summary['Age']['Q3']) - (summary['Age']['Q1'])\n",
    "IQR"
   ]
  },
  {
   "cell_type": "code",
   "execution_count": 31,
   "id": "18ad95d1-74fa-4565-96c9-d2f19ea47762",
   "metadata": {},
   "outputs": [
    {
     "name": "stdout",
     "output_type": "stream",
     "text": [
      "Lower Fence:  10.0\n",
      "Higher Fence:  42.0\n"
     ]
    }
   ],
   "source": [
    "lower_fence = (summary['Age']['Q1']) - 1.5*IQR\n",
    "higher_fence = (summary['Age']['Q3']) + 1.5*IQR\n",
    "print('Lower Fence: ', lower_fence)\n",
    "print('Higher Fence: ', higher_fence)"
   ]
  },
  {
   "cell_type": "markdown",
   "id": "2c114cb5-6992-4e0a-be84-5650ded30f02",
   "metadata": {},
   "source": [
    "##### Outliers are numbers higher than higher fence or lower than lower fence\n",
    "##### since minimum is not lower than lower fence and maximum is not higher than higher fence, there are no outliers in our dataset Age column\n",
    "##### Therefore we can use Mean Value Imputation to handle missing values in the age column"
   ]
  },
  {
   "cell_type": "code",
   "execution_count": 33,
   "id": "b788ce91-5422-4ef9-a3e5-4b012448fb74",
   "metadata": {},
   "outputs": [
    {
     "data": {
      "text/plain": [
       "<Axes: ylabel='Age'>"
      ]
     },
     "execution_count": 33,
     "metadata": {},
     "output_type": "execute_result"
    },
    {
     "data": {
      "image/png": "[encoded data removed]",
      "text/plain": [
       "<Figure size 640x480 with 1 Axes>"
      ]
     },
     "metadata": {},
     "output_type": "display_data"
    }
   ],
   "source": [
    "#boxplot to visualize outliers\n",
    "sns.boxplot(depression_df['Age'])"
   ]
  },
  {
   "cell_type": "code",
   "execution_count": 35,
   "id": "93236af2-054c-4b32-9bbf-3ac592636523",
   "metadata": {},
   "outputs": [],
   "source": [
    "depression_df['Age'] = depression_df['Age'].fillna(depression_df['Age'].mean())"
   ]
  },
  {
   "cell_type": "code",
   "execution_count": 37,
   "id": "12d29181-d3b5-40e2-88b9-35ecc4b590e9",
   "metadata": {},
   "outputs": [
    {
     "data": {
      "text/plain": [
       "Gender                                   0\n",
       "Age                                      0\n",
       "Academic Pressure                        0\n",
       "Study Satisfaction                       0\n",
       "Sleep Duration                           1\n",
       "Dietary Habits                           0\n",
       "Have you ever had suicidal thoughts ?    0\n",
       "Study Hours                              0\n",
       "Financial Stress                         0\n",
       "Family History of Mental Illness         0\n",
       "Depression                               0\n",
       "dtype: int64"
      ]
     },
     "execution_count": 37,
     "metadata": {},
     "output_type": "execute_result"
    }
   ],
   "source": [
    "depression_df.isnull().sum()"
   ]
  },
  {
   "cell_type": "code",
   "execution_count": 39,
   "id": "38f65c0c-e6c4-4f56-83ab-e6a1d12ff866",
   "metadata": {},
   "outputs": [],
   "source": [
    "# Sleep duration is a categorical variable so Median Value imputation is used to handle the missing values\n",
    "depression_df['Sleep Duration'] = depression_df['Sleep Duration'].fillna(depression_df['Sleep Duration'].mode()[0])"
   ]
  },
  {
   "cell_type": "code",
   "execution_count": 41,
   "id": "bb31a6a4-cd78-43e2-93eb-aa96d443abd6",
   "metadata": {},
   "outputs": [
    {
     "data": {
      "text/plain": [
       "Gender                                   0\n",
       "Age                                      0\n",
       "Academic Pressure                        0\n",
       "Study Satisfaction                       0\n",
       "Sleep Duration                           0\n",
       "Dietary Habits                           0\n",
       "Have you ever had suicidal thoughts ?    0\n",
       "Study Hours                              0\n",
       "Financial Stress                         0\n",
       "Family History of Mental Illness         0\n",
       "Depression                               0\n",
       "dtype: int64"
      ]
     },
     "execution_count": 41,
     "metadata": {},
     "output_type": "execute_result"
    }
   ],
   "source": [
    "depression_df.isnull().sum()"
   ]
  },
  {
   "cell_type": "code",
   "execution_count": 43,
   "id": "2647bddd-a216-4859-821a-f118d63ddd28",
   "metadata": {},
   "outputs": [
    {
     "data": {
      "text/html": [
       "<div>\n",
       "<style scoped>\n",
       "    .dataframe tbody tr th:only-of-type {\n",
       "        vertical-align: middle;\n",
       "    }\n",
       "\n",
       "    .dataframe tbody tr th {\n",
       "        vertical-align: top;\n",
       "    }\n",
       "\n",
       "    .dataframe thead th {\n",
       "        text-align: right;\n",
       "    }\n",
       "</style>\n",
       "<table border=\"1\" class=\"dataframe\">\n",
       "  <thead>\n",
       "    <tr style=\"text-align: right;\">\n",
       "      <th></th>\n",
       "      <th>Gender</th>\n",
       "      <th>Age</th>\n",
       "      <th>Academic Pressure</th>\n",
       "      <th>Study Satisfaction</th>\n",
       "      <th>Sleep Duration</th>\n",
       "      <th>Dietary Habits</th>\n",
       "      <th>Have you ever had suicidal thoughts ?</th>\n",
       "      <th>Study Hours</th>\n",
       "      <th>Financial Stress</th>\n",
       "      <th>Family History of Mental Illness</th>\n",
       "      <th>Depression</th>\n",
       "    </tr>\n",
       "  </thead>\n",
       "  <tbody>\n",
       "  </tbody>\n",
       "</table>\n",
       "</div>"
      ],
      "text/plain": [
       "Empty DataFrame\n",
       "Columns: [Gender, Age, Academic Pressure, Study Satisfaction, Sleep Duration, Dietary Habits, Have you ever had suicidal thoughts ?, Study Hours, Financial Stress, Family History of Mental Illness, Depression]\n",
       "Index: []"
      ]
     },
     "execution_count": 43,
     "metadata": {},
     "output_type": "execute_result"
    }
   ],
   "source": [
    "#checking for and handling duplicated rows\n",
    "depression_df[depression_df.duplicated()]"
   ]
  },
  {
   "cell_type": "markdown",
   "id": "4a6b1b30-8cf7-4e1d-a326-f148c6b9974a",
   "metadata": {},
   "source": [
    "##### No duplicates found"
   ]
  },
  {
   "cell_type": "code",
   "execution_count": 45,
   "id": "782bd65c-0f62-41c6-8e34-226a85a17e48",
   "metadata": {},
   "outputs": [
    {
     "data": {
      "text/plain": [
       "Depression\n",
       "Yes    252\n",
       "No     250\n",
       "Name: count, dtype: int64"
      ]
     },
     "execution_count": 45,
     "metadata": {},
     "output_type": "execute_result"
    }
   ],
   "source": [
    "#checking imbalanced dataset\n",
    "depression_df['Depression'].value_counts()"
   ]
  },
  {
   "cell_type": "markdown",
   "id": "74a5dbce-c3c5-495a-97ff-59326a27c458",
   "metadata": {},
   "source": [
    "##### The Dataset is not imbalanced therefore upsampling and downsampling will not be required"
   ]
  },
  {
   "cell_type": "code",
   "execution_count": 47,
   "id": "d26ce820-8cc8-434a-915d-2025608c599c",
   "metadata": {},
   "outputs": [],
   "source": [
    "#updating the dataset copy df as I will be using it for other purposes\n",
    "df = depression_df"
   ]
  },
  {
   "cell_type": "code",
   "execution_count": 130,
   "id": "9d1d245d-7ff5-4d5b-9a7c-bd5b9ac5d95f",
   "metadata": {},
   "outputs": [
    {
     "data": {
      "text/plain": [
       "Index(['Gender', 'Age', 'Academic Pressure', 'Study Satisfaction',\n",
       "       'Sleep Duration', 'Dietary Habits',\n",
       "       'Have you ever had suicidal thoughts ?', 'Study Hours',\n",
       "       'Financial Stress', 'Family History of Mental Illness', 'Depression'],\n",
       "      dtype='object')"
      ]
     },
     "execution_count": 130,
     "metadata": {},
     "output_type": "execute_result"
    }
   ],
   "source": [
    "#checking for value inconsistencies\n",
    "depression_df.columns"
   ]
  },
  {
   "cell_type": "code",
   "execution_count": 49,
   "id": "c3707d4b-5c32-4717-871b-6df9236ea287",
   "metadata": {},
   "outputs": [
    {
     "data": {
      "text/plain": [
       "Gender\n",
       "Male      267\n",
       "Female    235\n",
       "Name: count, dtype: int64"
      ]
     },
     "execution_count": 49,
     "metadata": {},
     "output_type": "execute_result"
    }
   ],
   "source": [
    "depression_df['Gender'].value_counts()"
   ]
  },
  {
   "cell_type": "code",
   "execution_count": 51,
   "id": "2877d5ab-211b-4afc-9574-0c23e7a341d3",
   "metadata": {},
   "outputs": [
    {
     "data": {
      "text/plain": [
       "Sleep Duration\n",
       "More than 8 hours    129\n",
       "7-8 hours            127\n",
       "5-6 hours            123\n",
       "Less than 5 hours    123\n",
       "Name: count, dtype: int64"
      ]
     },
     "execution_count": 51,
     "metadata": {},
     "output_type": "execute_result"
    }
   ],
   "source": [
    "depression_df['Sleep Duration'].value_counts()"
   ]
  },
  {
   "cell_type": "code",
   "execution_count": 53,
   "id": "119684eb-b843-4fa4-ae15-cf021952feb8",
   "metadata": {},
   "outputs": [
    {
     "data": {
      "text/plain": [
       "Dietary Habits\n",
       "Moderate     172\n",
       "Unhealthy    169\n",
       "Healthy      161\n",
       "Name: count, dtype: int64"
      ]
     },
     "execution_count": 53,
     "metadata": {},
     "output_type": "execute_result"
    }
   ],
   "source": [
    "depression_df['Dietary Habits'].value_counts()"
   ]
  },
  {
   "cell_type": "code",
   "execution_count": 55,
   "id": "88bf8e54-1c34-4a07-8b5e-f1cde46a86a0",
   "metadata": {},
   "outputs": [
    {
     "data": {
      "text/plain": [
       "Have you ever had suicidal thoughts ?\n",
       "Yes    260\n",
       "No     242\n",
       "Name: count, dtype: int64"
      ]
     },
     "execution_count": 55,
     "metadata": {},
     "output_type": "execute_result"
    }
   ],
   "source": [
    "depression_df['Have you ever had suicidal thoughts ?'].value_counts()"
   ]
  },
  {
   "cell_type": "code",
   "execution_count": 57,
   "id": "0e72fc30-5885-43e4-8441-c1f1b8d0e69d",
   "metadata": {},
   "outputs": [
    {
     "data": {
      "text/plain": [
       "Family History of Mental Illness\n",
       "No     265\n",
       "Yes    237\n",
       "Name: count, dtype: int64"
      ]
     },
     "execution_count": 57,
     "metadata": {},
     "output_type": "execute_result"
    }
   ],
   "source": [
    "depression_df['Family History of Mental Illness'].value_counts()"
   ]
  },
  {
   "cell_type": "code",
   "execution_count": 59,
   "id": "bd57886b-5f36-4935-90a3-f36150f84ab3",
   "metadata": {},
   "outputs": [
    {
     "data": {
      "text/plain": [
       "Depression\n",
       "Yes    252\n",
       "No     250\n",
       "Name: count, dtype: int64"
      ]
     },
     "execution_count": 59,
     "metadata": {},
     "output_type": "execute_result"
    }
   ],
   "source": [
    "depression_df['Depression'].value_counts()"
   ]
  },
  {
   "cell_type": "markdown",
   "id": "d85d3a1a-d4da-4d63-a5e6-94b8e81e5b90",
   "metadata": {},
   "source": [
    "##### It seems there are no value inconsistency caused by spelling erros or white space so no action required"
   ]
  },
  {
   "cell_type": "code",
   "execution_count": 61,
   "id": "d7d7db5a-55fc-4d92-b634-a452d57c8873",
   "metadata": {},
   "outputs": [
    {
     "data": {
      "text/html": [
       "<div>\n",
       "<style scoped>\n",
       "    .dataframe tbody tr th:only-of-type {\n",
       "        vertical-align: middle;\n",
       "    }\n",
       "\n",
       "    .dataframe tbody tr th {\n",
       "        vertical-align: top;\n",
       "    }\n",
       "\n",
       "    .dataframe thead th {\n",
       "        text-align: right;\n",
       "    }\n",
       "</style>\n",
       "<table border=\"1\" class=\"dataframe\">\n",
       "  <thead>\n",
       "    <tr style=\"text-align: right;\">\n",
       "      <th></th>\n",
       "      <th>Gender</th>\n",
       "      <th>Age</th>\n",
       "      <th>Academic Pressure</th>\n",
       "      <th>Study Satisfaction</th>\n",
       "      <th>Sleep Duration</th>\n",
       "      <th>Dietary Habits</th>\n",
       "      <th>Have you ever had suicidal thoughts ?</th>\n",
       "      <th>Study Hours</th>\n",
       "      <th>Financial Stress</th>\n",
       "      <th>Family History of Mental Illness</th>\n",
       "      <th>Depression</th>\n",
       "    </tr>\n",
       "  </thead>\n",
       "  <tbody>\n",
       "    <tr>\n",
       "      <th>0</th>\n",
       "      <td>Male</td>\n",
       "      <td>28.0</td>\n",
       "      <td>2</td>\n",
       "      <td>4</td>\n",
       "      <td>7-8 hours</td>\n",
       "      <td>Moderate</td>\n",
       "      <td>Yes</td>\n",
       "      <td>9</td>\n",
       "      <td>2</td>\n",
       "      <td>Yes</td>\n",
       "      <td>No</td>\n",
       "    </tr>\n",
       "    <tr>\n",
       "      <th>1</th>\n",
       "      <td>Male</td>\n",
       "      <td>28.0</td>\n",
       "      <td>4</td>\n",
       "      <td>5</td>\n",
       "      <td>5-6 hours</td>\n",
       "      <td>Healthy</td>\n",
       "      <td>Yes</td>\n",
       "      <td>7</td>\n",
       "      <td>1</td>\n",
       "      <td>Yes</td>\n",
       "      <td>No</td>\n",
       "    </tr>\n",
       "    <tr>\n",
       "      <th>2</th>\n",
       "      <td>Male</td>\n",
       "      <td>25.0</td>\n",
       "      <td>1</td>\n",
       "      <td>3</td>\n",
       "      <td>5-6 hours</td>\n",
       "      <td>Unhealthy</td>\n",
       "      <td>Yes</td>\n",
       "      <td>10</td>\n",
       "      <td>4</td>\n",
       "      <td>No</td>\n",
       "      <td>Yes</td>\n",
       "    </tr>\n",
       "  </tbody>\n",
       "</table>\n",
       "</div>"
      ],
      "text/plain": [
       "  Gender   Age  Academic Pressure  Study Satisfaction Sleep Duration  \\\n",
       "0   Male  28.0                  2                   4      7-8 hours   \n",
       "1   Male  28.0                  4                   5      5-6 hours   \n",
       "2   Male  25.0                  1                   3      5-6 hours   \n",
       "\n",
       "  Dietary Habits Have you ever had suicidal thoughts ?  Study Hours  \\\n",
       "0       Moderate                                   Yes            9   \n",
       "1        Healthy                                   Yes            7   \n",
       "2      Unhealthy                                   Yes           10   \n",
       "\n",
       "   Financial Stress Family History of Mental Illness Depression  \n",
       "0                 2                              Yes         No  \n",
       "1                 1                              Yes         No  \n",
       "2                 4                               No        Yes  "
      ]
     },
     "execution_count": 61,
     "metadata": {},
     "output_type": "execute_result"
    }
   ],
   "source": [
    "depression_df.head(3)"
   ]
  },
  {
   "cell_type": "code",
   "execution_count": 63,
   "id": "853398fe-d3b5-4d8d-addb-e27f0e0c4773",
   "metadata": {},
   "outputs": [
    {
     "data": {
      "text/html": [
       "<div>\n",
       "<style scoped>\n",
       "    .dataframe tbody tr th:only-of-type {\n",
       "        vertical-align: middle;\n",
       "    }\n",
       "\n",
       "    .dataframe tbody tr th {\n",
       "        vertical-align: top;\n",
       "    }\n",
       "\n",
       "    .dataframe thead th {\n",
       "        text-align: right;\n",
       "    }\n",
       "</style>\n",
       "<table border=\"1\" class=\"dataframe\">\n",
       "  <thead>\n",
       "    <tr style=\"text-align: right;\">\n",
       "      <th></th>\n",
       "      <th>Gender</th>\n",
       "      <th>Age</th>\n",
       "      <th>Academic Pressure</th>\n",
       "      <th>Study Satisfaction</th>\n",
       "      <th>Sleep Duration</th>\n",
       "      <th>Dietary Habits</th>\n",
       "      <th>Have you ever had suicidal thoughts ?</th>\n",
       "      <th>Study Hours</th>\n",
       "      <th>Financial Stress</th>\n",
       "      <th>Family History of Mental Illness</th>\n",
       "      <th>Depression</th>\n",
       "    </tr>\n",
       "  </thead>\n",
       "  <tbody>\n",
       "    <tr>\n",
       "      <th>0</th>\n",
       "      <td>Male</td>\n",
       "      <td>28.0</td>\n",
       "      <td>2</td>\n",
       "      <td>4</td>\n",
       "      <td>7-8 hours</td>\n",
       "      <td>1.0</td>\n",
       "      <td>Yes</td>\n",
       "      <td>9</td>\n",
       "      <td>2</td>\n",
       "      <td>Yes</td>\n",
       "      <td>No</td>\n",
       "    </tr>\n",
       "    <tr>\n",
       "      <th>1</th>\n",
       "      <td>Male</td>\n",
       "      <td>28.0</td>\n",
       "      <td>4</td>\n",
       "      <td>5</td>\n",
       "      <td>5-6 hours</td>\n",
       "      <td>2.0</td>\n",
       "      <td>Yes</td>\n",
       "      <td>7</td>\n",
       "      <td>1</td>\n",
       "      <td>Yes</td>\n",
       "      <td>No</td>\n",
       "    </tr>\n",
       "    <tr>\n",
       "      <th>2</th>\n",
       "      <td>Male</td>\n",
       "      <td>25.0</td>\n",
       "      <td>1</td>\n",
       "      <td>3</td>\n",
       "      <td>5-6 hours</td>\n",
       "      <td>0.0</td>\n",
       "      <td>Yes</td>\n",
       "      <td>10</td>\n",
       "      <td>4</td>\n",
       "      <td>No</td>\n",
       "      <td>Yes</td>\n",
       "    </tr>\n",
       "    <tr>\n",
       "      <th>3</th>\n",
       "      <td>Male</td>\n",
       "      <td>23.0</td>\n",
       "      <td>1</td>\n",
       "      <td>4</td>\n",
       "      <td>More than 8 hours</td>\n",
       "      <td>0.0</td>\n",
       "      <td>Yes</td>\n",
       "      <td>7</td>\n",
       "      <td>2</td>\n",
       "      <td>Yes</td>\n",
       "      <td>No</td>\n",
       "    </tr>\n",
       "    <tr>\n",
       "      <th>4</th>\n",
       "      <td>Female</td>\n",
       "      <td>31.0</td>\n",
       "      <td>1</td>\n",
       "      <td>5</td>\n",
       "      <td>More than 8 hours</td>\n",
       "      <td>2.0</td>\n",
       "      <td>Yes</td>\n",
       "      <td>4</td>\n",
       "      <td>2</td>\n",
       "      <td>Yes</td>\n",
       "      <td>No</td>\n",
       "    </tr>\n",
       "  </tbody>\n",
       "</table>\n",
       "</div>"
      ],
      "text/plain": [
       "   Gender   Age  Academic Pressure  Study Satisfaction     Sleep Duration  \\\n",
       "0    Male  28.0                  2                   4          7-8 hours   \n",
       "1    Male  28.0                  4                   5          5-6 hours   \n",
       "2    Male  25.0                  1                   3          5-6 hours   \n",
       "3    Male  23.0                  1                   4  More than 8 hours   \n",
       "4  Female  31.0                  1                   5  More than 8 hours   \n",
       "\n",
       "   Dietary Habits Have you ever had suicidal thoughts ?  Study Hours  \\\n",
       "0             1.0                                   Yes            9   \n",
       "1             2.0                                   Yes            7   \n",
       "2             0.0                                   Yes           10   \n",
       "3             0.0                                   Yes            7   \n",
       "4             2.0                                   Yes            4   \n",
       "\n",
       "   Financial Stress Family History of Mental Illness Depression  \n",
       "0                 2                              Yes         No  \n",
       "1                 1                              Yes         No  \n",
       "2                 4                               No        Yes  \n",
       "3                 2                              Yes         No  \n",
       "4                 2                              Yes         No  "
      ]
     },
     "execution_count": 63,
     "metadata": {},
     "output_type": "execute_result"
    }
   ],
   "source": [
    "#Encoding Ordinal categorical variables\n",
    "from sklearn.preprocessing import OrdinalEncoder\n",
    "diet_habits_encoder = OrdinalEncoder(categories = [['Unhealthy', 'Moderate', 'Healthy']])\n",
    "depression_df['Dietary Habits'] = diet_habits_encoder.fit_transform(depression_df[['Dietary Habits']])\n",
    "depression_df.head()"
   ]
  },
  {
   "cell_type": "code",
   "execution_count": 65,
   "id": "6f8b1e6f-7b37-4329-bf0a-aaa95f22b26d",
   "metadata": {},
   "outputs": [
    {
     "data": {
      "text/html": [
       "<div>\n",
       "<style scoped>\n",
       "    .dataframe tbody tr th:only-of-type {\n",
       "        vertical-align: middle;\n",
       "    }\n",
       "\n",
       "    .dataframe tbody tr th {\n",
       "        vertical-align: top;\n",
       "    }\n",
       "\n",
       "    .dataframe thead th {\n",
       "        text-align: right;\n",
       "    }\n",
       "</style>\n",
       "<table border=\"1\" class=\"dataframe\">\n",
       "  <thead>\n",
       "    <tr style=\"text-align: right;\">\n",
       "      <th></th>\n",
       "      <th>Gender</th>\n",
       "      <th>Age</th>\n",
       "      <th>Academic Pressure</th>\n",
       "      <th>Study Satisfaction</th>\n",
       "      <th>Sleep Duration</th>\n",
       "      <th>Dietary Habits</th>\n",
       "      <th>Have you ever had suicidal thoughts ?</th>\n",
       "      <th>Study Hours</th>\n",
       "      <th>Financial Stress</th>\n",
       "      <th>Family History of Mental Illness</th>\n",
       "      <th>Depression</th>\n",
       "    </tr>\n",
       "  </thead>\n",
       "  <tbody>\n",
       "    <tr>\n",
       "      <th>0</th>\n",
       "      <td>Male</td>\n",
       "      <td>28.0</td>\n",
       "      <td>2</td>\n",
       "      <td>4</td>\n",
       "      <td>2.0</td>\n",
       "      <td>1.0</td>\n",
       "      <td>Yes</td>\n",
       "      <td>9</td>\n",
       "      <td>2</td>\n",
       "      <td>Yes</td>\n",
       "      <td>No</td>\n",
       "    </tr>\n",
       "    <tr>\n",
       "      <th>1</th>\n",
       "      <td>Male</td>\n",
       "      <td>28.0</td>\n",
       "      <td>4</td>\n",
       "      <td>5</td>\n",
       "      <td>1.0</td>\n",
       "      <td>2.0</td>\n",
       "      <td>Yes</td>\n",
       "      <td>7</td>\n",
       "      <td>1</td>\n",
       "      <td>Yes</td>\n",
       "      <td>No</td>\n",
       "    </tr>\n",
       "    <tr>\n",
       "      <th>2</th>\n",
       "      <td>Male</td>\n",
       "      <td>25.0</td>\n",
       "      <td>1</td>\n",
       "      <td>3</td>\n",
       "      <td>1.0</td>\n",
       "      <td>0.0</td>\n",
       "      <td>Yes</td>\n",
       "      <td>10</td>\n",
       "      <td>4</td>\n",
       "      <td>No</td>\n",
       "      <td>Yes</td>\n",
       "    </tr>\n",
       "    <tr>\n",
       "      <th>3</th>\n",
       "      <td>Male</td>\n",
       "      <td>23.0</td>\n",
       "      <td>1</td>\n",
       "      <td>4</td>\n",
       "      <td>3.0</td>\n",
       "      <td>0.0</td>\n",
       "      <td>Yes</td>\n",
       "      <td>7</td>\n",
       "      <td>2</td>\n",
       "      <td>Yes</td>\n",
       "      <td>No</td>\n",
       "    </tr>\n",
       "    <tr>\n",
       "      <th>4</th>\n",
       "      <td>Female</td>\n",
       "      <td>31.0</td>\n",
       "      <td>1</td>\n",
       "      <td>5</td>\n",
       "      <td>3.0</td>\n",
       "      <td>2.0</td>\n",
       "      <td>Yes</td>\n",
       "      <td>4</td>\n",
       "      <td>2</td>\n",
       "      <td>Yes</td>\n",
       "      <td>No</td>\n",
       "    </tr>\n",
       "  </tbody>\n",
       "</table>\n",
       "</div>"
      ],
      "text/plain": [
       "   Gender   Age  Academic Pressure  Study Satisfaction  Sleep Duration  \\\n",
       "0    Male  28.0                  2                   4             2.0   \n",
       "1    Male  28.0                  4                   5             1.0   \n",
       "2    Male  25.0                  1                   3             1.0   \n",
       "3    Male  23.0                  1                   4             3.0   \n",
       "4  Female  31.0                  1                   5             3.0   \n",
       "\n",
       "   Dietary Habits Have you ever had suicidal thoughts ?  Study Hours  \\\n",
       "0             1.0                                   Yes            9   \n",
       "1             2.0                                   Yes            7   \n",
       "2             0.0                                   Yes           10   \n",
       "3             0.0                                   Yes            7   \n",
       "4             2.0                                   Yes            4   \n",
       "\n",
       "   Financial Stress Family History of Mental Illness Depression  \n",
       "0                 2                              Yes         No  \n",
       "1                 1                              Yes         No  \n",
       "2                 4                               No        Yes  \n",
       "3                 2                              Yes         No  \n",
       "4                 2                              Yes         No  "
      ]
     },
     "execution_count": 65,
     "metadata": {},
     "output_type": "execute_result"
    }
   ],
   "source": [
    "#Encoding Ordinal categorical variables\n",
    "sleep_duration_encoder = OrdinalEncoder(categories = [['Less than 5 hours', '5-6 hours', '7-8 hours', 'More than 8 hours']])\n",
    "depression_df['Sleep Duration'] = sleep_duration_encoder.fit_transform(depression_df[['Sleep Duration']])\n",
    "depression_df.head()"
   ]
  },
  {
   "cell_type": "code",
   "execution_count": 67,
   "id": "5012319f-9b36-4b5d-9a33-61da3adf14d3",
   "metadata": {},
   "outputs": [
    {
     "data": {
      "text/plain": [
       "Index(['Gender', 'Age', 'Academic Pressure', 'Study Satisfaction',\n",
       "       'Sleep Duration', 'Dietary Habits',\n",
       "       'Have you ever had suicidal thoughts ?', 'Study Hours',\n",
       "       'Financial Stress', 'Family History of Mental Illness', 'Depression'],\n",
       "      dtype='object')"
      ]
     },
     "execution_count": 67,
     "metadata": {},
     "output_type": "execute_result"
    }
   ],
   "source": [
    "depression_df.columns"
   ]
  },
  {
   "cell_type": "code",
   "execution_count": 69,
   "id": "f748f3d9-080f-42b1-8877-e24c540bac9a",
   "metadata": {},
   "outputs": [],
   "source": [
    "#Encoding nominal categorical variables\n",
    "from sklearn.preprocessing import LabelEncoder\n",
    "encoder = LabelEncoder()\n",
    "cols_to_encode = ['Gender', 'Have you ever had suicidal thoughts ?', 'Family History of Mental Illness', 'Depression']\n",
    "for column in cols_to_encode:\n",
    "    depression_df[column] = encoder.fit_transform(depression_df[column])"
   ]
  },
  {
   "cell_type": "code",
   "execution_count": 71,
   "id": "ca6cf3bb-2815-4190-ace4-4ad5e467ab0d",
   "metadata": {},
   "outputs": [
    {
     "data": {
      "text/html": [
       "<div>\n",
       "<style scoped>\n",
       "    .dataframe tbody tr th:only-of-type {\n",
       "        vertical-align: middle;\n",
       "    }\n",
       "\n",
       "    .dataframe tbody tr th {\n",
       "        vertical-align: top;\n",
       "    }\n",
       "\n",
       "    .dataframe thead th {\n",
       "        text-align: right;\n",
       "    }\n",
       "</style>\n",
       "<table border=\"1\" class=\"dataframe\">\n",
       "  <thead>\n",
       "    <tr style=\"text-align: right;\">\n",
       "      <th></th>\n",
       "      <th>Gender</th>\n",
       "      <th>Age</th>\n",
       "      <th>Academic Pressure</th>\n",
       "      <th>Study Satisfaction</th>\n",
       "      <th>Sleep Duration</th>\n",
       "      <th>Dietary Habits</th>\n",
       "      <th>Have you ever had suicidal thoughts ?</th>\n",
       "      <th>Study Hours</th>\n",
       "      <th>Financial Stress</th>\n",
       "      <th>Family History of Mental Illness</th>\n",
       "      <th>Depression</th>\n",
       "    </tr>\n",
       "  </thead>\n",
       "  <tbody>\n",
       "    <tr>\n",
       "      <th>0</th>\n",
       "      <td>1</td>\n",
       "      <td>28.0</td>\n",
       "      <td>2</td>\n",
       "      <td>4</td>\n",
       "      <td>2.0</td>\n",
       "      <td>1.0</td>\n",
       "      <td>1</td>\n",
       "      <td>9</td>\n",
       "      <td>2</td>\n",
       "      <td>1</td>\n",
       "      <td>0</td>\n",
       "    </tr>\n",
       "    <tr>\n",
       "      <th>1</th>\n",
       "      <td>1</td>\n",
       "      <td>28.0</td>\n",
       "      <td>4</td>\n",
       "      <td>5</td>\n",
       "      <td>1.0</td>\n",
       "      <td>2.0</td>\n",
       "      <td>1</td>\n",
       "      <td>7</td>\n",
       "      <td>1</td>\n",
       "      <td>1</td>\n",
       "      <td>0</td>\n",
       "    </tr>\n",
       "    <tr>\n",
       "      <th>2</th>\n",
       "      <td>1</td>\n",
       "      <td>25.0</td>\n",
       "      <td>1</td>\n",
       "      <td>3</td>\n",
       "      <td>1.0</td>\n",
       "      <td>0.0</td>\n",
       "      <td>1</td>\n",
       "      <td>10</td>\n",
       "      <td>4</td>\n",
       "      <td>0</td>\n",
       "      <td>1</td>\n",
       "    </tr>\n",
       "  </tbody>\n",
       "</table>\n",
       "</div>"
      ],
      "text/plain": [
       "   Gender   Age  Academic Pressure  Study Satisfaction  Sleep Duration  \\\n",
       "0       1  28.0                  2                   4             2.0   \n",
       "1       1  28.0                  4                   5             1.0   \n",
       "2       1  25.0                  1                   3             1.0   \n",
       "\n",
       "   Dietary Habits  Have you ever had suicidal thoughts ?  Study Hours  \\\n",
       "0             1.0                                      1            9   \n",
       "1             2.0                                      1            7   \n",
       "2             0.0                                      1           10   \n",
       "\n",
       "   Financial Stress  Family History of Mental Illness  Depression  \n",
       "0                 2                                 1           0  \n",
       "1                 1                                 1           0  \n",
       "2                 4                                 0           1  "
      ]
     },
     "execution_count": 71,
     "metadata": {},
     "output_type": "execute_result"
    }
   ],
   "source": [
    "depression_df.head(3)"
   ]
  },
  {
   "cell_type": "markdown",
   "id": "43c83cee-48c3-4db8-afc9-d442b0b51927",
   "metadata": {},
   "source": [
    "### Part 3: EDA"
   ]
  },
  {
   "cell_type": "code",
   "execution_count": 73,
   "id": "d90d987c-8689-4e12-869a-2dd480df46f0",
   "metadata": {},
   "outputs": [
    {
     "data": {
      "image/png": "[encoded data removed]",
      "text/plain": [
       "<Figure size 640x480 with 1 Axes>"
      ]
     },
     "metadata": {},
     "output_type": "display_data"
    }
   ],
   "source": [
    "depression_df['Age'].plot(kind='hist', bins=6, title='Age Distribution')\n",
    "plt.xlabel('Age')\n",
    "plt.show()"
   ]
  },
  {
   "cell_type": "code",
   "execution_count": 75,
   "id": "450bd9d7-61d3-4c6a-a00b-32741e2b553e",
   "metadata": {},
   "outputs": [
    {
     "data": {
      "image/png": "[encoded data removed]",
      "text/plain": [
       "<Figure size 640x480 with 1 Axes>"
      ]
     },
     "metadata": {},
     "output_type": "display_data"
    }
   ],
   "source": [
    "depression_df['Gender'].value_counts().plot(kind='bar', title='Gender Distribution')\n",
    "plt.show()"
   ]
  },
  {
   "cell_type": "code",
   "execution_count": 77,
   "id": "80d5e198-2d6d-4c6d-b515-36dc7405eabd",
   "metadata": {
    "scrolled": true
   },
   "outputs": [
    {
     "data": {
      "image/png": "[encoded data removed]",
      "text/plain": [
       "<Figure size 1000x600 with 1 Axes>"
      ]
     },
     "metadata": {},
     "output_type": "display_data"
    }
   ],
   "source": [
    "plt.figure(figsize=(10, 6))\n",
    "depression_yes = df[df['Depression'] == 1]['Age']\n",
    "depression_no = df[df['Depression'] == 0]['Age']\n",
    "\n",
    "plt.hist(\n",
    "    [depression_yes, depression_no],\n",
    "    bins=6,\n",
    "    stacked=True,\n",
    "    color=['blue', 'orange'],\n",
    "    label=['Depressed', 'Not Depressed']\n",
    ")\n",
    "plt.xlabel('Age')\n",
    "plt.ylabel('Count')\n",
    "plt.title('Age Distribution by Depression Status')\n",
    "plt.legend()\n",
    "plt.show()"
   ]
  },
  {
   "cell_type": "markdown",
   "id": "3f000fda-5ce4-4f5e-a310-f4a979c480b9",
   "metadata": {},
   "source": [
    "##### The younger students seem to be more prone to depression compared to the older ones"
   ]
  },
  {
   "cell_type": "code",
   "execution_count": 79,
   "id": "88e9b4d3-f87d-4015-ad8c-8efa124411ab",
   "metadata": {},
   "outputs": [
    {
     "data": {
      "image/png": "[encoded data removed]",
      "text/plain": [
       "<Figure size 800x600 with 1 Axes>"
      ]
     },
     "metadata": {},
     "output_type": "display_data"
    }
   ],
   "source": [
    "gender_depression = depression_df.groupby(['Gender', 'Depression']).size().unstack()\n",
    "gender_depression.plot(kind='bar', stacked=True, figsize=(8, 6), title='Gender Distribution by Depression Status')\n",
    "\n",
    "plt.xlabel('Gender')\n",
    "plt.ylabel('Count')\n",
    "plt.legend()\n",
    "plt.show()"
   ]
  },
  {
   "cell_type": "code",
   "execution_count": 81,
   "id": "81dea12d-d797-4b3d-9332-e1580ad0ff40",
   "metadata": {},
   "outputs": [
    {
     "data": {
      "image/png": "[encoded data removed]",
      "text/plain": [
       "<Figure size 1200x800 with 2 Axes>"
      ]
     },
     "metadata": {},
     "output_type": "display_data"
    }
   ],
   "source": [
    "import seaborn as sns \n",
    "corr_matrix = depression_df.corr()\n",
    "plt.figure(figsize=(12, 8))\n",
    "sns.heatmap(corr_matrix, annot=True, cmap='plasma')\n",
    "plt.title(\"Correlation Matrix Heatmap\", fontsize=16)\n",
    "plt.show()"
   ]
  },
  {
   "cell_type": "markdown",
   "id": "4377ff8c-73d1-485c-9558-6a157c774335",
   "metadata": {},
   "source": [
    "##### There's no multicolinearity in this dataset, which implies that the model to be build will likely be more reliability, with high interpretability, and good performance. \n",
    "\n"
   ]
  },
  {
   "cell_type": "code",
   "execution_count": 85,
   "id": "d54ebc95-0bb6-4044-9aa9-c8a0d7fb7abe",
   "metadata": {},
   "outputs": [
    {
     "data": {
      "image/png": "[encoded data removed]",
      "text/plain": [
       "<Figure size 700x500 with 1 Axes>"
      ]
     },
     "metadata": {},
     "output_type": "display_data"
    }
   ],
   "source": [
    "plt.figure(figsize=(7, 5))\n",
    "sns.countplot(x='Academic Pressure', hue='Depression', data=depression_df)\n",
    "plt.title('Academic Pressure Distribution by Depression Status')\n",
    "plt.xlabel('Academic Pressure')\n",
    "plt.ylabel('Number of Students')\n",
    "plt.legend(labels=['Not Depressed', 'Depressed'])\n",
    "plt.show()"
   ]
  },
  {
   "cell_type": "markdown",
   "id": "52dc9b76-062b-42e4-a30c-9abde3047113",
   "metadata": {},
   "source": [
    "##### When academic pressure increases, depression also increases"
   ]
  },
  {
   "cell_type": "code",
   "execution_count": 89,
   "id": "bae14487-0030-4394-aa48-d7258bc05c41",
   "metadata": {},
   "outputs": [
    {
     "data": {
      "text/plain": [
       "<Figure size 800x600 with 0 Axes>"
      ]
     },
     "metadata": {},
     "output_type": "display_data"
    },
    {
     "data": {
      "image/png": "[encoded data removed]",
      "text/plain": [
       "<Figure size 700x500 with 1 Axes>"
      ]
     },
     "metadata": {},
     "output_type": "display_data"
    }
   ],
   "source": [
    "grouped_data = depression_df.groupby(['Financial Stress', 'Depression']).size().unstack(fill_value=0)\n",
    "\n",
    "plt.figure(figsize=(8, 6))\n",
    "grouped_data.plot(kind='bar', stacked=True, figsize=(7, 5), color=['darkgreen', 'orange'])\n",
    "\n",
    "plt.title('Financial Stress Distribution by Depression Status')\n",
    "plt.xlabel('Financial Stress')\n",
    "plt.ylabel('Number of Students')\n",
    "plt.legend(title='Depression Status', labels=['Not Depressed', 'Depressed'])\n",
    "plt.show()"
   ]
  },
  {
   "cell_type": "markdown",
   "id": "6a240361-4be6-4645-bc2a-76b5f2f89719",
   "metadata": {},
   "source": [
    "##### When financial stress increases, depression also increases"
   ]
  },
  {
   "cell_type": "code",
   "execution_count": 91,
   "id": "1218dde5-9faa-4a77-841d-5e05804379ab",
   "metadata": {},
   "outputs": [
    {
     "data": {
      "image/png": "[encoded data removed]",
      "text/plain": [
       "<Figure size 700x500 with 1 Axes>"
      ]
     },
     "metadata": {},
     "output_type": "display_data"
    }
   ],
   "source": [
    "plt.figure(figsize=(7, 5))\n",
    "sns.countplot(x='Study Satisfaction', hue='Depression', data=depression_df)\n",
    "plt.title('Study Satisfaction Distribution by Depression Status')\n",
    "plt.xlabel('Study Satisfaction')\n",
    "plt.ylabel('Number of Students')\n",
    "plt.legend(labels=['Not Depressed', 'Depressed'])\n",
    "plt.show()"
   ]
  },
  {
   "cell_type": "markdown",
   "id": "cbfe9f56-00ef-4d07-8223-c3538352cb99",
   "metadata": {},
   "source": [
    "##### When study satisfaction increases, depression decreases"
   ]
  },
  {
   "cell_type": "code",
   "execution_count": 93,
   "id": "ee0e0090-5808-4596-b737-e2874abc3933",
   "metadata": {},
   "outputs": [
    {
     "data": {
      "image/png": "[encoded data removed]",
      "text/plain": [
       "<Figure size 640x480 with 1 Axes>"
      ]
     },
     "metadata": {},
     "output_type": "display_data"
    }
   ],
   "source": [
    "sns.boxplot(x='Depression', y='Study Hours', data=depression_df)\n",
    "plt.title('Study Hours by Depression')\n",
    "plt.show()"
   ]
  },
  {
   "cell_type": "code",
   "execution_count": 95,
   "id": "dc8ddff3-ba57-4624-8486-0b666b163c03",
   "metadata": {},
   "outputs": [
    {
     "data": {
      "image/png": "[encoded data removed]",
      "text/plain": [
       "<Figure size 640x480 with 1 Axes>"
      ]
     },
     "metadata": {},
     "output_type": "display_data"
    }
   ],
   "source": [
    "sns.violinplot(x='Gender', y='Study Hours', data=depression_df)\n",
    "plt.title('Study Hours by Gender')\n",
    "plt.show()"
   ]
  },
  {
   "cell_type": "markdown",
   "id": "14c1d0e4-5de1-46e3-8712-e09bd7a5987e",
   "metadata": {},
   "source": [
    "### Part 4: Dataset Splitting, Scaling, and Feature Selection"
   ]
  },
  {
   "cell_type": "code",
   "execution_count": 97,
   "id": "7dcff422-a1ea-4f0a-8949-972d2824390e",
   "metadata": {},
   "outputs": [
    {
     "data": {
      "text/html": [
       "<div>\n",
       "<style scoped>\n",
       "    .dataframe tbody tr th:only-of-type {\n",
       "        vertical-align: middle;\n",
       "    }\n",
       "\n",
       "    .dataframe tbody tr th {\n",
       "        vertical-align: top;\n",
       "    }\n",
       "\n",
       "    .dataframe thead th {\n",
       "        text-align: right;\n",
       "    }\n",
       "</style>\n",
       "<table border=\"1\" class=\"dataframe\">\n",
       "  <thead>\n",
       "    <tr style=\"text-align: right;\">\n",
       "      <th></th>\n",
       "      <th>Gender</th>\n",
       "      <th>Age</th>\n",
       "      <th>Academic Pressure</th>\n",
       "      <th>Study Satisfaction</th>\n",
       "      <th>Sleep Duration</th>\n",
       "      <th>Dietary Habits</th>\n",
       "      <th>Have you ever had suicidal thoughts ?</th>\n",
       "      <th>Study Hours</th>\n",
       "      <th>Financial Stress</th>\n",
       "      <th>Family History of Mental Illness</th>\n",
       "      <th>Depression</th>\n",
       "    </tr>\n",
       "  </thead>\n",
       "  <tbody>\n",
       "    <tr>\n",
       "      <th>0</th>\n",
       "      <td>1</td>\n",
       "      <td>28.0</td>\n",
       "      <td>2</td>\n",
       "      <td>4</td>\n",
       "      <td>2.0</td>\n",
       "      <td>1.0</td>\n",
       "      <td>1</td>\n",
       "      <td>9</td>\n",
       "      <td>2</td>\n",
       "      <td>1</td>\n",
       "      <td>0</td>\n",
       "    </tr>\n",
       "    <tr>\n",
       "      <th>1</th>\n",
       "      <td>1</td>\n",
       "      <td>28.0</td>\n",
       "      <td>4</td>\n",
       "      <td>5</td>\n",
       "      <td>1.0</td>\n",
       "      <td>2.0</td>\n",
       "      <td>1</td>\n",
       "      <td>7</td>\n",
       "      <td>1</td>\n",
       "      <td>1</td>\n",
       "      <td>0</td>\n",
       "    </tr>\n",
       "  </tbody>\n",
       "</table>\n",
       "</div>"
      ],
      "text/plain": [
       "   Gender   Age  Academic Pressure  Study Satisfaction  Sleep Duration  \\\n",
       "0       1  28.0                  2                   4             2.0   \n",
       "1       1  28.0                  4                   5             1.0   \n",
       "\n",
       "   Dietary Habits  Have you ever had suicidal thoughts ?  Study Hours  \\\n",
       "0             1.0                                      1            9   \n",
       "1             2.0                                      1            7   \n",
       "\n",
       "   Financial Stress  Family History of Mental Illness  Depression  \n",
       "0                 2                                 1           0  \n",
       "1                 1                                 1           0  "
      ]
     },
     "execution_count": 97,
     "metadata": {},
     "output_type": "execute_result"
    }
   ],
   "source": [
    "depression_df.head(2)"
   ]
  },
  {
   "cell_type": "code",
   "execution_count": 99,
   "id": "eaf544e6-c283-4f53-a6f3-f1122045ed55",
   "metadata": {},
   "outputs": [],
   "source": [
    "# defining indepenndent variables (X) and dependent variable (y)\n",
    "X = depression_df.drop('Depression', axis=1)\n",
    "y = depression_df['Depression']"
   ]
  },
  {
   "cell_type": "code",
   "execution_count": 107,
   "id": "fbb9cf1e-8b88-4c01-9f5d-230bea7da472",
   "metadata": {},
   "outputs": [],
   "source": [
    "X_train, X_test, y_train, y_test = train_test_split(X, y, test_size=0.25, random_state=42)"
   ]
  },
  {
   "cell_type": "code",
   "execution_count": 109,
   "id": "b0f59ba5-e443-4fa6-b601-17e05f9024ad",
   "metadata": {},
   "outputs": [
    {
     "data": {
      "text/plain": [
       "(376, 10)"
      ]
     },
     "execution_count": 109,
     "metadata": {},
     "output_type": "execute_result"
    }
   ],
   "source": [
    "X_train.shape"
   ]
  },
  {
   "cell_type": "code",
   "execution_count": 111,
   "id": "37f3d642-59cb-4df1-8ee5-e7bc7195a317",
   "metadata": {},
   "outputs": [],
   "source": [
    "scaler = StandardScaler()\n",
    "X_train_scaled = scaler.fit_transform(X_train)\n",
    "X_test_scaled = scaler.transform(X_test)"
   ]
  },
  {
   "cell_type": "code",
   "execution_count": 253,
   "id": "ef03ab5c-aefc-461e-bcef-1ee115c8046a",
   "metadata": {},
   "outputs": [
    {
     "data": {
      "text/plain": [
       "['scaler.pkl']"
      ]
     },
     "execution_count": 253,
     "metadata": {},
     "output_type": "execute_result"
    }
   ],
   "source": [
    "joblib.dump(scaler, \"scaler.pkl\")"
   ]
  },
  {
   "cell_type": "code",
   "execution_count": 113,
   "id": "206eaa14-782b-4fa3-a62d-65930444fe8c",
   "metadata": {},
   "outputs": [],
   "source": [
    "rf_model = RandomForestClassifier(random_state=42)\n",
    "rfe = RFE(estimator=rf_model, n_features_to_select = 7)\n",
    "X_train_selected = rfe.fit_transform(X_train_scaled, y_train)\n",
    "X_test_selected = rfe.transform(X_test_scaled)"
   ]
  },
  {
   "cell_type": "code",
   "execution_count": 119,
   "id": "41b7c511-17be-445e-aa85-a47612e32ed5",
   "metadata": {
    "scrolled": true
   },
   "outputs": [
    {
     "name": "stdout",
     "output_type": "stream",
     "text": [
      "Selected Features:\n",
      "Index(['Age', 'Academic Pressure', 'Study Satisfaction', 'Dietary Habits',\n",
      "       'Have you ever had suicidal thoughts ?', 'Study Hours',\n",
      "       'Financial Stress'],\n",
      "      dtype='object')\n"
     ]
    }
   ],
   "source": [
    "selected_features = X.columns[rfe.support_]\n",
    "print(\"Selected Features:\")\n",
    "print(selected_features)"
   ]
  },
  {
   "cell_type": "code",
   "execution_count": 197,
   "id": "ff055fd3-6b5a-4825-b07f-c37a3e0054e4",
   "metadata": {},
   "outputs": [],
   "source": [
    "X_train_selected = pd.DataFrame(X_train_selected, columns=selected_features, index=X_train.index)\n",
    "X_test_selected = pd.DataFrame(X_test_selected, columns=selected_features, index=X_test.index)"
   ]
  },
  {
   "cell_type": "code",
   "execution_count": 205,
   "id": "c8260525-0f3a-4414-8640-61be18b072d8",
   "metadata": {},
   "outputs": [
    {
     "data": {
      "text/html": [
       "<div>\n",
       "<style scoped>\n",
       "    .dataframe tbody tr th:only-of-type {\n",
       "        vertical-align: middle;\n",
       "    }\n",
       "\n",
       "    .dataframe tbody tr th {\n",
       "        vertical-align: top;\n",
       "    }\n",
       "\n",
       "    .dataframe thead th {\n",
       "        text-align: right;\n",
       "    }\n",
       "</style>\n",
       "<table border=\"1\" class=\"dataframe\">\n",
       "  <thead>\n",
       "    <tr style=\"text-align: right;\">\n",
       "      <th></th>\n",
       "      <th>Age</th>\n",
       "      <th>Academic Pressure</th>\n",
       "      <th>Study Satisfaction</th>\n",
       "      <th>Dietary Habits</th>\n",
       "      <th>Have you ever had suicidal thoughts ?</th>\n",
       "      <th>Study Hours</th>\n",
       "      <th>Financial Stress</th>\n",
       "    </tr>\n",
       "  </thead>\n",
       "  <tbody>\n",
       "    <tr>\n",
       "      <th>426</th>\n",
       "      <td>0.180002</td>\n",
       "      <td>0.732791</td>\n",
       "      <td>-0.799713</td>\n",
       "      <td>-1.178741</td>\n",
       "      <td>-1.005333</td>\n",
       "      <td>-1.174805</td>\n",
       "      <td>0.752007</td>\n",
       "    </tr>\n",
       "    <tr>\n",
       "      <th>204</th>\n",
       "      <td>-0.426533</td>\n",
       "      <td>-0.687463</td>\n",
       "      <td>-0.799713</td>\n",
       "      <td>1.256460</td>\n",
       "      <td>-1.005333</td>\n",
       "      <td>0.711764</td>\n",
       "      <td>-0.661766</td>\n",
       "    </tr>\n",
       "  </tbody>\n",
       "</table>\n",
       "</div>"
      ],
      "text/plain": [
       "          Age  Academic Pressure  Study Satisfaction  Dietary Habits  \\\n",
       "426  0.180002           0.732791           -0.799713       -1.178741   \n",
       "204 -0.426533          -0.687463           -0.799713        1.256460   \n",
       "\n",
       "     Have you ever had suicidal thoughts ?  Study Hours  Financial Stress  \n",
       "426                              -1.005333    -1.174805          0.752007  \n",
       "204                              -1.005333     0.711764         -0.661766  "
      ]
     },
     "execution_count": 205,
     "metadata": {},
     "output_type": "execute_result"
    }
   ],
   "source": [
    "X_train_selected.head(2)"
   ]
  },
  {
   "cell_type": "markdown",
   "id": "5dd2add4-07a2-4c91-9e53-2c93d86e23db",
   "metadata": {},
   "source": [
    "### Part 5: Model Training"
   ]
  },
  {
   "cell_type": "code",
   "execution_count": 209,
   "id": "c0f32961-20b3-4a70-848d-8f42c7dc0582",
   "metadata": {},
   "outputs": [],
   "source": [
    "logreg = LogisticRegression(random_state=42)\n",
    "logreg.fit(X_train_selected, y_train)\n",
    "logreg_pred = logreg.predict(X_test_selected)\n",
    "\n",
    "rf = RandomForestClassifier()\n",
    "rf.fit(X_train_selected, y_train)\n",
    "rf_pred = rf.predict(X_test_selected)\n",
    "\n",
    "knn = KNeighborsClassifier(n_neighbors=3)\n",
    "knn.fit(X_train_selected, y_train)\n",
    "knn_pred = knn.predict(X_test_selected)\n",
    "\n",
    "svm = SVC(kernel='linear', C=1)\n",
    "svm.fit(X_train_selected, y_train)\n",
    "svm_pred = svm.predict(X_test_selected)\n",
    "\n",
    "dtree = DecisionTreeClassifier(max_depth=3, random_state=42)\n",
    "dtree.fit(X_train_selected, y_train)\n",
    "dtree_pred = dtree.predict(X_test_selected)\n",
    "\n",
    "gnb = GaussianNB()\n",
    "gnb.fit(X_train_selected, y_train)\n",
    "gbn_pred = gnb.predict(X_test_selected)"
   ]
  },
  {
   "cell_type": "markdown",
   "id": "d1667e63-da76-40d6-bfa8-b4571f99dbc8",
   "metadata": {},
   "source": [
    "    "
   ]
  },
  {
   "cell_type": "markdown",
   "id": "64f1acb6-f3de-4e20-9704-1f23a6088cff",
   "metadata": {},
   "source": [
    "### Part 6: Model Evaluation"
   ]
  },
  {
   "cell_type": "code",
   "execution_count": 211,
   "id": "81d672aa-2012-4337-a7ff-bcf2f2d31a02",
   "metadata": {},
   "outputs": [
    {
     "name": "stdout",
     "output_type": "stream",
     "text": [
      "Logistic Regression Accuracy = 0.9682539682539683, Precision = 0.9701492537313433, Recall = 0.9701492537313433, F1 = 0.9701492537313433\n",
      "\n",
      "\n",
      "Random Forest Accuracy = 0.9126984126984127, Precision = 0.9242424242424242, Recall = 0.9104477611940298, F1 = 0.9172932330827067\n",
      "\n",
      "\n",
      "K Nearest Neighbors Accuracy = 0.9047619047619048, Precision = 0.9230769230769231, Recall = 0.8955223880597015, F1 = 0.9090909090909091\n",
      "\n",
      "\n",
      "Support vector Machine Accuracy = 0.9523809523809523, Precision = 0.9692307692307692, Recall = 0.9402985074626866, F1 = 0.9545454545454546\n",
      "\n",
      "\n",
      "Decision Tree Accuracy = 0.8253968253968254, Precision = 0.7922077922077922, Recall = 0.9104477611940298, F1 = 0.8472222222222222\n",
      "\n",
      "\n",
      "Naive Bayes Accuracy = 0.9444444444444444, Precision = 0.9545454545454546, Recall = 0.9402985074626866, F1 = 0.9473684210526315\n",
      "\n",
      "\n"
     ]
    }
   ],
   "source": [
    "logreg_accuracy = accuracy_score(y_test, logreg_pred)\n",
    "logreg_precision = precision_score(y_test, logreg_pred)\n",
    "logreg_recall = recall_score(y_test, logreg_pred)\n",
    "logreg_f1 = f1_score(y_test, logreg_pred)\n",
    "print(f\"Logistic Regression Accuracy = {logreg_accuracy}, Precision = {logreg_precision}, Recall = {logreg_recall}, F1 = {logreg_f1}\")\n",
    "print('\\n')\n",
    "\n",
    "rf_accuracy = accuracy_score(y_test, rf_pred)\n",
    "rf_precision = precision_score(y_test, rf_pred)\n",
    "rf_recall = recall_score(y_test, rf_pred)\n",
    "rf_f1 = f1_score(y_test, rf_pred)\n",
    "print(f\"Random Forest Accuracy = {rf_accuracy}, Precision = {rf_precision}, Recall = {rf_recall}, F1 = {rf_f1}\")\n",
    "print('\\n')\n",
    "\n",
    "knn_accuracy = accuracy_score(y_test, knn_pred)\n",
    "knn_precision = precision_score(y_test, knn_pred)\n",
    "knn_recall = recall_score(y_test, knn_pred)\n",
    "knn_f1 = f1_score(y_test, knn_pred)\n",
    "print(f\"K Nearest Neighbors Accuracy = {knn_accuracy}, Precision = {knn_precision}, Recall = {knn_recall}, F1 = {knn_f1}\")\n",
    "print('\\n')\n",
    "\n",
    "svm_accuracy = accuracy_score(y_test, svm_pred)\n",
    "svm_precision = precision_score(y_test, svm_pred)\n",
    "svm_recall = recall_score(y_test, svm_pred)\n",
    "svm_f1 = f1_score(y_test, svm_pred)\n",
    "print(f\"Support vector Machine Accuracy = {svm_accuracy}, Precision = {svm_precision}, Recall = {svm_recall}, F1 = {svm_f1}\")\n",
    "print('\\n')\n",
    "\n",
    "dtree_accuracy = accuracy_score(y_test, dtree_pred)\n",
    "dtree_precision = precision_score(y_test, dtree_pred)\n",
    "dtree_recall = recall_score(y_test, dtree_pred)\n",
    "dtree_f1 = f1_score(y_test, dtree_pred)\n",
    "print(f\"Decision Tree Accuracy = {dtree_accuracy}, Precision = {dtree_precision}, Recall = {dtree_recall}, F1 = {dtree_f1}\")\n",
    "print('\\n')\n",
    "\n",
    "\n",
    "gbn_accuracy = accuracy_score(y_test, gbn_pred)\n",
    "gbn_precision = precision_score(y_test, gbn_pred)\n",
    "gbn_recall = recall_score(y_test, gbn_pred)\n",
    "gbn_f1 = f1_score(y_test, gbn_pred)\n",
    "print(f\"Naive Bayes Accuracy = {gbn_accuracy}, Precision = {gbn_precision}, Recall = {gbn_recall}, F1 = {gbn_f1}\")\n",
    "print('\\n')"
   ]
  },
  {
   "cell_type": "markdown",
   "id": "92b73e16-1e2a-4141-8830-16cd01317a1e",
   "metadata": {},
   "source": [
    "### Part 7: Cross Validation "
   ]
  },
  {
   "cell_type": "code",
   "execution_count": 213,
   "id": "2c63c819-8b07-4999-80c4-e2a3c244464c",
   "metadata": {},
   "outputs": [
    {
     "name": "stdout",
     "output_type": "stream",
     "text": [
      "Cross-Validation F1 Scores for Logistic Regression: [0.93478261 0.93478261 0.96703297 0.97826087]\n",
      "Mean F1 Score: 0.9537147634973722\n",
      "Standard Deviation of F1 Scores: 0.01934385457569158\n"
     ]
    }
   ],
   "source": [
    "# K-fold Cross-Validation \n",
    "from sklearn.model_selection import cross_val_score\n",
    "\n",
    "cv_scores = cross_val_score(logreg, X_train_selected, y_train, cv=4, scoring='f1')\n",
    "\n",
    "print(\"Cross-Validation F1 Scores for Logistic Regression:\", cv_scores)\n",
    "print(\"Mean F1 Score:\", np.mean(cv_scores))\n",
    "print(\"Standard Deviation of F1 Scores:\", np.std(cv_scores))"
   ]
  },
  {
   "cell_type": "code",
   "execution_count": 215,
   "id": "4fe0a34e-92f2-4f2f-8f83-804af7034b0e",
   "metadata": {},
   "outputs": [
    {
     "name": "stdout",
     "output_type": "stream",
     "text": [
      "Stratified Cross-Validation F1 Scores: [0.93478261 0.96703297 1.         0.91304348]\n",
      "Mean F1 Score: 0.9537147634973723\n",
      "Standard Deviation of F1 Scores: 0.03291001971947514\n"
     ]
    }
   ],
   "source": [
    "# Using Stratified K-Folds to ensure class balance in each fold (applicable to classification problems like this one)\n",
    "from sklearn.model_selection import StratifiedKFold\n",
    "\n",
    "skf = StratifiedKFold(n_splits=4, shuffle=True, random_state=42)\n",
    "skf_cv_scores = cross_val_score (logreg, X_train_selected, y_train, cv=skf, scoring='f1')\n",
    "\n",
    "print(\"Stratified Cross-Validation F1 Scores:\", skf_cv_scores)\n",
    "print(\"Mean F1 Score:\", np.mean(skf_cv_scores))\n",
    "print(\"Standard Deviation of F1 Scores:\", np.std(skf_cv_scores))"
   ]
  },
  {
   "cell_type": "markdown",
   "id": "7ce15e39-6c1f-4949-9e47-f61bae71a40a",
   "metadata": {},
   "source": [
    "\n",
    "    \n",
    "##### With a Mean F1 score above 95% and a very low Standard deviation of 0.0329, the  model's performance can be interpreted as reliable and stable across different subsets of the data.\n",
    "##### This can also mean that there's no significant overfitting to specific folds, and that the model generalizes well within the training data."
   ]
  },
  {
   "cell_type": "markdown",
   "id": "80e61030-d759-402c-b9ba-d7445a00447a",
   "metadata": {},
   "source": [
    "### Part 8: Hyperparameter Tuning & Testing the Final Model"
   ]
  },
  {
   "cell_type": "code",
   "execution_count": 217,
   "id": "a4922d05-e215-4cb5-ae4e-43c7cd5bbc04",
   "metadata": {},
   "outputs": [
    {
     "name": "stdout",
     "output_type": "stream",
     "text": [
      "Best Hyperparameters: {'C': 1, 'penalty': 'l1', 'solver': 'liblinear'}\n"
     ]
    }
   ],
   "source": [
    "from sklearn.model_selection import GridSearchCV\n",
    "param_grid = {\n",
    "    'C': [0.01, 0.1, 1, 10],\n",
    "    'penalty': ['l1', 'l2'],\n",
    "    'solver': ['liblinear']\n",
    "}\n",
    "\n",
    "grid_search = GridSearchCV(logreg, param_grid, cv=4, scoring='f1')\n",
    "grid_search.fit(X_train_selected, y_train)\n",
    "\n",
    "print(\"Best Hyperparameters:\", grid_search.best_params_)\n",
    "best_model = grid_search.best_estimator_"
   ]
  },
  {
   "cell_type": "code",
   "execution_count": 219,
   "id": "663ca245-3652-4ed2-8ae0-b54012a867a7",
   "metadata": {},
   "outputs": [
    {
     "name": "stdout",
     "output_type": "stream",
     "text": [
      "Logistic Regression Accuracy: 0.9682539682539683\n",
      "Classification Report:\n",
      "               precision    recall  f1-score   support\n",
      "\n",
      "           0       0.97      0.97      0.97        59\n",
      "           1       0.97      0.97      0.97        67\n",
      "\n",
      "    accuracy                           0.97       126\n",
      "   macro avg       0.97      0.97      0.97       126\n",
      "weighted avg       0.97      0.97      0.97       126\n",
      "\n",
      "ROC-AUC Score: 0.9939286617758665\n"
     ]
    }
   ],
   "source": [
    "from sklearn.metrics import classification_report, roc_auc_score\n",
    "\n",
    "y_test_pred = best_model.predict(X_test_selected)\n",
    "print(\"Logistic Regression Accuracy:\", accuracy_score(y_test, y_test_pred))\n",
    "print(\"Classification Report:\\n\", classification_report(y_test, y_test_pred))\n",
    "\n",
    "y_test_probabilities = best_model.predict_proba(X_test_selected)[:, 1]\n",
    "print(\"ROC-AUC Score:\", roc_auc_score(y_test, y_test_probabilities))"
   ]
  },
  {
   "cell_type": "markdown",
   "id": "10d11b6a-027c-4833-8c4c-82776b49aee6",
   "metadata": {},
   "source": [
    "##### The model is excellent at distinguishing between students with and without depression, with Accuracy sccore of approximately 0.97 and an AUC score of 0.99"
   ]
  },
  {
   "cell_type": "markdown",
   "id": "0c527870-9d02-40c5-952d-16b2478d8fd4",
   "metadata": {},
   "source": [
    "### Part 9: Visualizing Feature Importance"
   ]
  },
  {
   "cell_type": "code",
   "execution_count": 171,
   "id": "fb12ae96-fd4e-4c5a-baf6-31301330978b",
   "metadata": {},
   "outputs": [
    {
     "data": {
      "image/png": "[encoded data removed]",
      "text/plain": [
       "<Figure size 640x480 with 1 Axes>"
      ]
     },
     "metadata": {},
     "output_type": "display_data"
    }
   ],
   "source": [
    "feature_importance = pd.Series(best_model.coef_[0], index=selected_features).sort_values(ascending=False)\n",
    "feature_importance.plot(kind='bar', title='Feature Importance')\n",
    "plt.grid(axis='y')\n",
    "plt.show()"
   ]
  },
  {
   "cell_type": "markdown",
   "id": "3c9ed466-95fd-4350-b2dc-ff5f40e3ebb7",
   "metadata": {},
   "source": [
    "##### This Model is has been tested and proven to be a good depression predictor. It can be used to screen depression among student to ensure they receive timely ppreventive and/or therapeutic interventions."
   ]
  },
  {
   "cell_type": "markdown",
   "id": "0277e2f0-1f35-48bb-be63-51f9b8872832",
   "metadata": {},
   "source": [
    "### Part 10: Saving The Model"
   ]
  },
  {
   "cell_type": "code",
   "execution_count": 221,
   "id": "a61857b2-70b3-49b4-bf3e-a9e510480efe",
   "metadata": {},
   "outputs": [
    {
     "name": "stdout",
     "output_type": "stream",
     "text": [
      "Index(['Age', 'Academic Pressure', 'Study Satisfaction', 'Dietary Habits',\n",
      "       'Have you ever had suicidal thoughts ?', 'Study Hours',\n",
      "       'Financial Stress'],\n",
      "      dtype='object')\n"
     ]
    }
   ],
   "source": [
    "print(selected_features)"
   ]
  },
  {
   "cell_type": "code",
   "execution_count": 224,
   "id": "a0702fb6-bd8d-4b69-a0ae-0c4aab91f459",
   "metadata": {},
   "outputs": [],
   "source": [
    "#saving my training and testing dataset to csv\n",
    "X_train_selected.to_csv('X_train_selected.csv', index=False)\n",
    "X_test_selected.to_csv('X_test_selected.csv', index=False)"
   ]
  },
  {
   "cell_type": "code",
   "execution_count": 226,
   "id": "5ab43816-3409-4e39-b82c-43d42cbc9d7f",
   "metadata": {},
   "outputs": [],
   "source": [
    "import json\n",
    "selected_features_list = selected_features.tolist()\n",
    "\n",
    "with open(\"selected_features.json\", \"w\") as f:\n",
    "    json.dump(selected_features_list, f)"
   ]
  },
  {
   "cell_type": "code",
   "execution_count": 228,
   "id": "68a47b63-8d9d-4175-b2fe-990cb9bfe9ac",
   "metadata": {},
   "outputs": [
    {
     "data": {
      "text/plain": [
       "['student_depression_predicting_model.pkl']"
      ]
     },
     "execution_count": 228,
     "metadata": {},
     "output_type": "execute_result"
    }
   ],
   "source": [
    "import joblib\n",
    "\n",
    "joblib.dump(best_model, \"student_depression_predicting_model.pkl\")"
   ]
  },
  {
   "cell_type": "markdown",
   "id": "d866d418-e004-4f1a-9e2a-489a38f532c1",
   "metadata": {},
   "source": [
    "### Part 11: Model Deployment "
   ]
  },
  {
   "cell_type": "markdown",
   "id": "9f6e60f0-1efd-4dd7-a485-7913a2e92b1d",
   "metadata": {},
   "source": [
    "##### The model is deployed on streamlit using the saved dataset below\n"
   ]
  },
  {
   "cell_type": "code",
   "execution_count": 258,
   "id": "8d67141b-a1c7-44dd-a117-d87e52951a0d",
   "metadata": {},
   "outputs": [
    {
     "data": {
      "text/html": [
       "<div>\n",
       "<style scoped>\n",
       "    .dataframe tbody tr th:only-of-type {\n",
       "        vertical-align: middle;\n",
       "    }\n",
       "\n",
       "    .dataframe tbody tr th {\n",
       "        vertical-align: top;\n",
       "    }\n",
       "\n",
       "    .dataframe thead th {\n",
       "        text-align: right;\n",
       "    }\n",
       "</style>\n",
       "<table border=\"1\" class=\"dataframe\">\n",
       "  <thead>\n",
       "    <tr style=\"text-align: right;\">\n",
       "      <th></th>\n",
       "      <th>Gender</th>\n",
       "      <th>Age</th>\n",
       "      <th>Academic Pressure</th>\n",
       "      <th>Study Satisfaction</th>\n",
       "      <th>Sleep Duration</th>\n",
       "      <th>Dietary Habits</th>\n",
       "      <th>Have you ever had suicidal thoughts ?</th>\n",
       "      <th>Study Hours</th>\n",
       "      <th>Financial Stress</th>\n",
       "      <th>Family History of Mental Illness</th>\n",
       "      <th>Depression</th>\n",
       "    </tr>\n",
       "  </thead>\n",
       "  <tbody>\n",
       "    <tr>\n",
       "      <th>0</th>\n",
       "      <td>1</td>\n",
       "      <td>28.0</td>\n",
       "      <td>2</td>\n",
       "      <td>4</td>\n",
       "      <td>2.0</td>\n",
       "      <td>1.0</td>\n",
       "      <td>1</td>\n",
       "      <td>9</td>\n",
       "      <td>2</td>\n",
       "      <td>1</td>\n",
       "      <td>0</td>\n",
       "    </tr>\n",
       "    <tr>\n",
       "      <th>1</th>\n",
       "      <td>1</td>\n",
       "      <td>28.0</td>\n",
       "      <td>4</td>\n",
       "      <td>5</td>\n",
       "      <td>1.0</td>\n",
       "      <td>2.0</td>\n",
       "      <td>1</td>\n",
       "      <td>7</td>\n",
       "      <td>1</td>\n",
       "      <td>1</td>\n",
       "      <td>0</td>\n",
       "    </tr>\n",
       "  </tbody>\n",
       "</table>\n",
       "</div>"
      ],
      "text/plain": [
       "   Gender   Age  Academic Pressure  Study Satisfaction  Sleep Duration  \\\n",
       "0       1  28.0                  2                   4             2.0   \n",
       "1       1  28.0                  4                   5             1.0   \n",
       "\n",
       "   Dietary Habits  Have you ever had suicidal thoughts ?  Study Hours  \\\n",
       "0             1.0                                      1            9   \n",
       "1             2.0                                      1            7   \n",
       "\n",
       "   Financial Stress  Family History of Mental Illness  Depression  \n",
       "0                 2                                 1           0  \n",
       "1                 1                                 1           0  "
      ]
     },
     "execution_count": 258,
     "metadata": {},
     "output_type": "execute_result"
    }
   ],
   "source": [
    "#This is the same as the cleaned and encoded original dataset\n",
    "df.head(2)"
   ]
  },
  {
   "cell_type": "code",
   "execution_count": 260,
   "id": "b22539e1-775c-4fe4-8e95-65b7b72b5071",
   "metadata": {},
   "outputs": [
    {
     "data": {
      "text/html": [
       "<div>\n",
       "<style scoped>\n",
       "    .dataframe tbody tr th:only-of-type {\n",
       "        vertical-align: middle;\n",
       "    }\n",
       "\n",
       "    .dataframe tbody tr th {\n",
       "        vertical-align: top;\n",
       "    }\n",
       "\n",
       "    .dataframe thead th {\n",
       "        text-align: right;\n",
       "    }\n",
       "</style>\n",
       "<table border=\"1\" class=\"dataframe\">\n",
       "  <thead>\n",
       "    <tr style=\"text-align: right;\">\n",
       "      <th></th>\n",
       "      <th>Age</th>\n",
       "      <th>Academic Pressure</th>\n",
       "      <th>Study Satisfaction</th>\n",
       "      <th>Dietary Habits</th>\n",
       "      <th>Have you ever had suicidal thoughts ?</th>\n",
       "      <th>Study Hours</th>\n",
       "      <th>Financial Stress</th>\n",
       "      <th>Depression</th>\n",
       "    </tr>\n",
       "  </thead>\n",
       "  <tbody>\n",
       "    <tr>\n",
       "      <th>0</th>\n",
       "      <td>28.0</td>\n",
       "      <td>2</td>\n",
       "      <td>4</td>\n",
       "      <td>1.0</td>\n",
       "      <td>1</td>\n",
       "      <td>9</td>\n",
       "      <td>2</td>\n",
       "      <td>0</td>\n",
       "    </tr>\n",
       "    <tr>\n",
       "      <th>1</th>\n",
       "      <td>28.0</td>\n",
       "      <td>4</td>\n",
       "      <td>5</td>\n",
       "      <td>2.0</td>\n",
       "      <td>1</td>\n",
       "      <td>7</td>\n",
       "      <td>1</td>\n",
       "      <td>0</td>\n",
       "    </tr>\n",
       "    <tr>\n",
       "      <th>2</th>\n",
       "      <td>25.0</td>\n",
       "      <td>1</td>\n",
       "      <td>3</td>\n",
       "      <td>0.0</td>\n",
       "      <td>1</td>\n",
       "      <td>10</td>\n",
       "      <td>4</td>\n",
       "      <td>1</td>\n",
       "    </tr>\n",
       "    <tr>\n",
       "      <th>3</th>\n",
       "      <td>23.0</td>\n",
       "      <td>1</td>\n",
       "      <td>4</td>\n",
       "      <td>0.0</td>\n",
       "      <td>1</td>\n",
       "      <td>7</td>\n",
       "      <td>2</td>\n",
       "      <td>0</td>\n",
       "    </tr>\n",
       "    <tr>\n",
       "      <th>4</th>\n",
       "      <td>31.0</td>\n",
       "      <td>1</td>\n",
       "      <td>5</td>\n",
       "      <td>2.0</td>\n",
       "      <td>1</td>\n",
       "      <td>4</td>\n",
       "      <td>2</td>\n",
       "      <td>0</td>\n",
       "    </tr>\n",
       "  </tbody>\n",
       "</table>\n",
       "</div>"
      ],
      "text/plain": [
       "    Age  Academic Pressure  Study Satisfaction  Dietary Habits  \\\n",
       "0  28.0                  2                   4             1.0   \n",
       "1  28.0                  4                   5             2.0   \n",
       "2  25.0                  1                   3             0.0   \n",
       "3  23.0                  1                   4             0.0   \n",
       "4  31.0                  1                   5             2.0   \n",
       "\n",
       "   Have you ever had suicidal thoughts ?  Study Hours  Financial Stress  \\\n",
       "0                                      1            9                 2   \n",
       "1                                      1            7                 1   \n",
       "2                                      1           10                 4   \n",
       "3                                      1            7                 2   \n",
       "4                                      1            4                 2   \n",
       "\n",
       "   Depression  \n",
       "0           0  \n",
       "1           0  \n",
       "2           1  \n",
       "3           0  \n",
       "4           0  "
      ]
     },
     "execution_count": 260,
     "metadata": {},
     "output_type": "execute_result"
    }
   ],
   "source": [
    "#Removing unnecessary columns to leave only the columns that were selected as selected features using RFE in the steps above \n",
    "df.drop(columns=['Gender', 'Sleep Duration', 'Family History of Mental Illness'], inplace=True)\n",
    "df.head()"
   ]
  },
  {
   "cell_type": "code",
   "execution_count": 268,
   "id": "35580b4d-db87-4467-8377-6078226a9209",
   "metadata": {},
   "outputs": [],
   "source": [
    "# saving the dataset for use while building streamlit app for depression prediction\n",
    "df.to_csv('selected_depression_cols_df.csv', index=False)"
   ]
  }
 ],
 "metadata": {
  "kernelspec": {
   "display_name": "Python 3 (ipykernel)",
   "language": "python",
   "name": "python3"
  },
  "language_info": {
   "codemirror_mode": {
    "name": "ipython",
    "version": 3
   },
   "file_extension": ".py",
   "mimetype": "text/x-python",
   "name": "python",
   "nbconvert_exporter": "python",
   "pygments_lexer": "ipython3",
   "version": "3.12.4"
  }
 },
 "nbformat": 4,
 "nbformat_minor": 5
}
